{
  "nbformat": 4,
  "nbformat_minor": 0,
  "metadata": {
    "colab": {
      "provenance": [],
      "authorship_tag": "ABX9TyOAPVmp2fNl/sF7yfg4pHNa"
    },
    "kernelspec": {
      "name": "python3",
      "display_name": "Python 3"
    },
    "language_info": {
      "name": "python"
    },
    "gpuClass": "standard",
    "accelerator": "GPU"
  },
  "cells": [
    {
      "cell_type": "markdown",
      "source": [
        "Reza Faisal\n",
        "rezha.faizal567@gmail.com"
      ],
      "metadata": {
        "id": "vkedarS_fh0O"
      }
    },
    {
      "cell_type": "code",
      "execution_count": 30,
      "metadata": {
        "id": "civKrIFyql2E"
      },
      "outputs": [],
      "source": [
        "import shutil, zipfile, os\n",
        "import tensorflow as tf\n",
        "from sklearn.model_selection import train_test_split\n",
        "from tensorflow.keras.models import Sequential\n",
        "from tensorflow.keras.layers import Dense, Conv2D, Flatten, MaxPooling2D\n",
        "from tensorflow.keras.preprocessing.image import ImageDataGenerator\n",
        "\n",
        "import numpy as np\n",
        "import matplotlib.pyplot as plt\n",
        "from google.colab import files\n",
        "from tensorflow.keras.preprocessing import image\n",
        "import matplotlib.image as mpimg\n",
        "%matplotlib inline\n"
      ]
    },
    {
      "cell_type": "code",
      "source": [
        "!wget --no-check-certificate \\\n",
        "  https://github.com/dicodingacademy/assets/releases/download/release/rockpaperscissors.zip \\\n",
        "  -O /tmp/rockpaperscissors.zip"
      ],
      "metadata": {
        "id": "4Pb5Hl0bpHyy"
      },
      "execution_count": null,
      "outputs": []
    },
    {
      "cell_type": "code",
      "source": [
        "# extract dataset\n",
        "local_zip = '/tmp/rockpaperscissors.zip'\n",
        "zip_ref = zipfile.ZipFile(local_zip, 'r')\n",
        "zip_ref.extractall('/tmp')\n",
        "zip_ref.close()"
      ],
      "metadata": {
        "id": "hG55RmCTpgWa"
      },
      "execution_count": null,
      "outputs": []
    },
    {
      "cell_type": "code",
      "source": [
        "# r = Roshambo =  Rock, Paper, Scissors\n",
        "labels = ['paper', 'rock', 'scissors']\n",
        "\n",
        "\n",
        "# init dictionary variable\n",
        "r_dir = {}\n",
        "r_file = {}\n",
        "\n",
        "r_train = {}\n",
        "r_val = {}\n",
        "\n",
        "r_train_dir = {}\n",
        "r_val_dir = {}\n",
        "\n",
        "base_dir = '/tmp/rockpaperscissors'\n",
        "\n",
        "for label in labels:\n",
        "  r_dir[label] = os.path.join(base_dir, label) #dataset directory\n",
        "  r_file[label] = os.listdir(r_dir[label]) #dataset file\n",
        "  r_train[label], r_val[label] = train_test_split(r_file[label], test_size=0.4) #split train and val 60/40"
      ],
      "metadata": {
        "id": "cqNSreQOZVdJ"
      },
      "execution_count": null,
      "outputs": []
    },
    {
      "cell_type": "code",
      "source": [
        "# hasil bagi train dan test\n",
        "train_total = 0\n",
        "val_total = 0\n",
        "\n",
        "for label in labels:\n",
        "  train_total += len(r_train[label])\n",
        "  val_total += len(r_val[label])\n",
        "\n",
        "  print(\"Train \"+label+\" : \", len(r_train[label]))\n",
        "  print(\"Val \"+label+\" : \", len(r_val[label]))\n",
        "\n",
        "print(\"\\nTrain Total : \", train_total)\n",
        "print(\"Val Total : \", val_total)"
      ],
      "metadata": {
        "colab": {
          "base_uri": "https://localhost:8080/"
        },
        "id": "kX1uioQ4hM_n",
        "outputId": "b5afd0f5-b2c8-4440-9a33-9cd13b8174c3"
      },
      "execution_count": null,
      "outputs": [
        {
          "output_type": "stream",
          "name": "stdout",
          "text": [
            "Train paper :  427\n",
            "Val paper :  285\n",
            "Train rock :  435\n",
            "Val rock :  291\n",
            "Train scissors :  450\n",
            "Val scissors :  300\n",
            "\n",
            "Train Total :  1312\n",
            "Val Total :  876\n"
          ]
        }
      ]
    },
    {
      "cell_type": "code",
      "source": [
        "# buat folder train dan validation\n",
        "os.mkdir(os.path.join(base_dir, 'train'))\n",
        "os.mkdir(os.path.join(base_dir, 'val'))"
      ],
      "metadata": {
        "id": "ND6eBwjwUjiR"
      },
      "execution_count": null,
      "outputs": []
    },
    {
      "cell_type": "code",
      "source": [
        "# train dan validation direktori\n",
        "train_dir = os.path.join(base_dir, 'train')\n",
        "val_dir = os.path.join(base_dir, 'val')"
      ],
      "metadata": {
        "id": "0jaZPz1sVaBr"
      },
      "execution_count": null,
      "outputs": []
    },
    {
      "cell_type": "code",
      "source": [
        "# buat direktori label dalam training dan validation\n",
        "for label in labels:\n",
        "  r_train_dir[label] = os.path.join(train_dir, label)\n",
        "  r_val_dir[label] = os.path.join(val_dir, label)\n",
        "\n",
        "  if not os.path.exists(r_train_dir[label]):\n",
        "    os.mkdir(r_train_dir[label])\n",
        "  if not os.path.exists(r_val_dir[label]):\n",
        "    os.mkdir(r_val_dir[label])"
      ],
      "metadata": {
        "id": "zosFhXPuVwcb"
      },
      "execution_count": null,
      "outputs": []
    },
    {
      "cell_type": "code",
      "source": [
        "print(r_train_dir)\n",
        "print(r_val_dir)"
      ],
      "metadata": {
        "colab": {
          "base_uri": "https://localhost:8080/"
        },
        "id": "rTOqfhbW4vJJ",
        "outputId": "49352d65-27b6-46ef-94c2-a562a2f3f576"
      },
      "execution_count": null,
      "outputs": [
        {
          "output_type": "stream",
          "name": "stdout",
          "text": [
            "{'paper': '/tmp/rockpaperscissors/train/paper', 'rock': '/tmp/rockpaperscissors/train/rock', 'scissors': '/tmp/rockpaperscissors/train/scissors'}\n",
            "{'paper': '/tmp/rockpaperscissors/val/paper', 'rock': '/tmp/rockpaperscissors/val/rock', 'scissors': '/tmp/rockpaperscissors/val/scissors'}\n"
          ]
        }
      ]
    },
    {
      "cell_type": "code",
      "source": [
        "# copy file dataset ke train dan val\n",
        "for label in labels:\n",
        "  for filename in r_train[label]:\n",
        "    if not os.path.exists(os.path.join(r_train_dir[label], filename)):\n",
        "      shutil.copy(os.path.join(r_dir[label], filename), os.path.join(r_train_dir[label], filename))\n",
        "  \n",
        "  for filename in r_val[label]:\n",
        "    if not os.path.exists(os.path.join(r_val_dir[label], filename)):\n",
        "      shutil.copy(os.path.join(r_dir[label], filename), os.path.join(r_val_dir[label], filename))"
      ],
      "metadata": {
        "id": "zwFWjSAKYGA4"
      },
      "execution_count": null,
      "outputs": []
    },
    {
      "cell_type": "code",
      "source": [
        "print('Train Data', sum([len(files) for r, d, files in os.walk(train_dir)]))\n",
        "print('Validation Data', sum([len(files) for r, d, files in os.walk(val_dir)]))"
      ],
      "metadata": {
        "colab": {
          "base_uri": "https://localhost:8080/"
        },
        "id": "Vjl18suSuZKj",
        "outputId": "c7d6d7df-715c-4635-eaf6-dc57e660a52d"
      },
      "execution_count": null,
      "outputs": [
        {
          "output_type": "stream",
          "name": "stdout",
          "text": [
            "Train Data 1312\n",
            "Validation Data 876\n"
          ]
        }
      ]
    },
    {
      "cell_type": "code",
      "source": [
        "# data image generator\n",
        "train_datagen = ImageDataGenerator(\n",
        "    rescale = 1./225,\n",
        "    rotation_range = 20,\n",
        "    horizontal_flip = True,\n",
        "    zoom_range=0.5 ,\n",
        "    fill_mode = 'nearest')\n",
        "\n",
        "val_datagen = ImageDataGenerator(rescale = 1./225)"
      ],
      "metadata": {
        "id": "cwRXTiwXrHbh"
      },
      "execution_count": 94,
      "outputs": []
    },
    {
      "cell_type": "code",
      "source": [
        "train_generator = train_datagen.flow_from_directory(\n",
        "    train_dir,\n",
        "    target_size=(150,150),\n",
        "    batch_size=30,\n",
        "    shuffle=True,\n",
        "    class_mode='categorical')\n",
        "\n",
        "val_generator = val_datagen.flow_from_directory(\n",
        "    val_dir,\n",
        "    target_size=(150,150),\n",
        "    batch_size=30,\n",
        "    shuffle=True,\n",
        "    class_mode='categorical')"
      ],
      "metadata": {
        "colab": {
          "base_uri": "https://localhost:8080/"
        },
        "id": "CntHcwAIPVBq",
        "outputId": "b119377d-e9d6-45d3-a67c-a6e3d677dc4e"
      },
      "execution_count": 95,
      "outputs": [
        {
          "output_type": "stream",
          "name": "stdout",
          "text": [
            "Found 1312 images belonging to 3 classes.\n",
            "Found 876 images belonging to 3 classes.\n"
          ]
        }
      ]
    },
    {
      "cell_type": "code",
      "source": [
        "model = Sequential([\n",
        "  Conv2D(32, 3, activation = 'relu', input_shape= (150,150,3)),\n",
        "  MaxPooling2D(2,2),\n",
        "  Conv2D(64, 3 , activation= 'relu'),\n",
        "  MaxPooling2D(2,2),\n",
        "  Conv2D(128, 3 , activation= 'relu'),\n",
        "  MaxPooling2D(2,2),\n",
        "  Conv2D(256, 3 , activation= 'relu'),\n",
        "  MaxPooling2D(2,2),\n",
        "  Flatten(),\n",
        "  Dense(512, activation= 'relu'),\n",
        "  Dense(3, activation= 'softmax')\n",
        "])"
      ],
      "metadata": {
        "id": "6KoCkWslzFif"
      },
      "execution_count": 96,
      "outputs": []
    },
    {
      "cell_type": "code",
      "source": [
        "model.summary()"
      ],
      "metadata": {
        "id": "h0Q3QUk9YqYl"
      },
      "execution_count": null,
      "outputs": []
    },
    {
      "cell_type": "code",
      "source": [
        "model.compile(loss='categorical_crossentropy',\n",
        "              optimizer=tf.optimizers.RMSprop(),\n",
        "              metrics=['accuracy'])"
      ],
      "metadata": {
        "id": "4-m_mMWhSySN"
      },
      "execution_count": 99,
      "outputs": []
    },
    {
      "cell_type": "code",
      "source": [
        "model.fit(\n",
        "    train_generator,\n",
        "    steps_per_epoch = 25,\n",
        "    epochs = 20,\n",
        "    validation_data = val_generator,\n",
        "    validation_steps=5,\n",
        "    verbose=2\n",
        ")"
      ],
      "metadata": {
        "id": "Wt4vu3HhS-me",
        "colab": {
          "base_uri": "https://localhost:8080/"
        },
        "outputId": "7dd749c9-e6b8-43b5-e658-aaf35c4fa840"
      },
      "execution_count": 100,
      "outputs": [
        {
          "output_type": "stream",
          "name": "stdout",
          "text": [
            "Epoch 1/20\n",
            "25/25 - 6s - loss: 2.4686 - accuracy: 0.4120 - val_loss: 0.9481 - val_accuracy: 0.4733 - 6s/epoch - 244ms/step\n",
            "Epoch 2/20\n",
            "25/25 - 5s - loss: 0.8560 - accuracy: 0.6160 - val_loss: 0.5049 - val_accuracy: 0.8067 - 5s/epoch - 211ms/step\n",
            "Epoch 3/20\n",
            "25/25 - 5s - loss: 0.6421 - accuracy: 0.7628 - val_loss: 0.4013 - val_accuracy: 0.8733 - 5s/epoch - 207ms/step\n",
            "Epoch 4/20\n",
            "25/25 - 5s - loss: 0.4800 - accuracy: 0.8302 - val_loss: 0.6079 - val_accuracy: 0.7533 - 5s/epoch - 213ms/step\n",
            "Epoch 5/20\n",
            "25/25 - 5s - loss: 0.4261 - accuracy: 0.8467 - val_loss: 0.6224 - val_accuracy: 0.6867 - 5s/epoch - 215ms/step\n",
            "Epoch 6/20\n",
            "25/25 - 5s - loss: 0.4206 - accuracy: 0.8440 - val_loss: 0.3190 - val_accuracy: 0.8867 - 5s/epoch - 217ms/step\n",
            "Epoch 7/20\n",
            "25/25 - 5s - loss: 0.4030 - accuracy: 0.8706 - val_loss: 0.2803 - val_accuracy: 0.8733 - 5s/epoch - 208ms/step\n",
            "Epoch 8/20\n",
            "25/25 - 5s - loss: 0.3674 - accuracy: 0.8573 - val_loss: 0.1970 - val_accuracy: 0.9200 - 5s/epoch - 209ms/step\n",
            "Epoch 9/20\n",
            "25/25 - 5s - loss: 0.3209 - accuracy: 0.8907 - val_loss: 0.3715 - val_accuracy: 0.8400 - 5s/epoch - 213ms/step\n",
            "Epoch 10/20\n",
            "25/25 - 5s - loss: 0.2750 - accuracy: 0.8976 - val_loss: 0.1929 - val_accuracy: 0.9267 - 5s/epoch - 208ms/step\n",
            "Epoch 11/20\n",
            "25/25 - 5s - loss: 0.1937 - accuracy: 0.9267 - val_loss: 0.1897 - val_accuracy: 0.9400 - 5s/epoch - 211ms/step\n",
            "Epoch 12/20\n",
            "25/25 - 5s - loss: 0.3298 - accuracy: 0.9030 - val_loss: 0.0781 - val_accuracy: 0.9800 - 5s/epoch - 214ms/step\n",
            "Epoch 13/20\n",
            "25/25 - 5s - loss: 0.2241 - accuracy: 0.9313 - val_loss: 0.0973 - val_accuracy: 0.9733 - 5s/epoch - 214ms/step\n",
            "Epoch 14/20\n",
            "25/25 - 5s - loss: 0.2010 - accuracy: 0.9218 - val_loss: 0.1604 - val_accuracy: 0.9400 - 5s/epoch - 215ms/step\n",
            "Epoch 15/20\n",
            "25/25 - 5s - loss: 0.1927 - accuracy: 0.9313 - val_loss: 0.0688 - val_accuracy: 0.9600 - 5s/epoch - 208ms/step\n",
            "Epoch 16/20\n",
            "25/25 - 5s - loss: 0.1898 - accuracy: 0.9387 - val_loss: 0.1177 - val_accuracy: 0.9600 - 5s/epoch - 209ms/step\n",
            "Epoch 17/20\n",
            "25/25 - 5s - loss: 0.1926 - accuracy: 0.9326 - val_loss: 0.0542 - val_accuracy: 0.9933 - 5s/epoch - 210ms/step\n",
            "Epoch 18/20\n",
            "25/25 - 5s - loss: 0.1368 - accuracy: 0.9623 - val_loss: 0.0616 - val_accuracy: 0.9733 - 5s/epoch - 209ms/step\n",
            "Epoch 19/20\n",
            "25/25 - 5s - loss: 0.1675 - accuracy: 0.9400 - val_loss: 0.0804 - val_accuracy: 0.9533 - 5s/epoch - 211ms/step\n",
            "Epoch 20/20\n",
            "25/25 - 5s - loss: 0.1694 - accuracy: 0.9515 - val_loss: 0.1076 - val_accuracy: 0.9467 - 5s/epoch - 216ms/step\n"
          ]
        },
        {
          "output_type": "execute_result",
          "data": {
            "text/plain": [
              "<keras.callbacks.History at 0x7f2c70612d90>"
            ]
          },
          "metadata": {},
          "execution_count": 100
        }
      ]
    },
    {
      "cell_type": "code",
      "source": [
        "uploaded = files.upload()\n",
        "\n",
        "for fn in uploaded.keys():\n",
        "  #prediksi gambar\n",
        "  path = fn\n",
        "  img = image.load_img(path, target_size=(150,150))\n",
        "\n",
        "  imgplot = plt.imshow(img)\n",
        "  x = image.img_to_array(img)\n",
        "  x = np.expand_dims(x, axis=0)\n",
        "  images = np.vstack([x])\n",
        "\n",
        "\n",
        "  classes = model.predict(images, batch_size=30)\n",
        "  print(fn)\n",
        "  \n",
        "  print(labels[np.argmax(classes)])"
      ],
      "metadata": {
        "colab": {
          "base_uri": "https://localhost:8080/",
          "height": 557
        },
        "id": "Cc-oAUi1AZd0",
        "outputId": "e2dbeca3-791b-4e47-898d-8b64f3aec896"
      },
      "execution_count": 102,
      "outputs": [
        {
          "output_type": "display_data",
          "data": {
            "text/plain": [
              "<IPython.core.display.HTML object>"
            ],
            "text/html": [
              "\n",
              "     <input type=\"file\" id=\"files-48d0f9bd-4f8e-4027-a875-a48a88572783\" name=\"files[]\" multiple disabled\n",
              "        style=\"border:none\" />\n",
              "     <output id=\"result-48d0f9bd-4f8e-4027-a875-a48a88572783\">\n",
              "      Upload widget is only available when the cell has been executed in the\n",
              "      current browser session. Please rerun this cell to enable.\n",
              "      </output>\n",
              "      <script>// Copyright 2017 Google LLC\n",
              "//\n",
              "// Licensed under the Apache License, Version 2.0 (the \"License\");\n",
              "// you may not use this file except in compliance with the License.\n",
              "// You may obtain a copy of the License at\n",
              "//\n",
              "//      http://www.apache.org/licenses/LICENSE-2.0\n",
              "//\n",
              "// Unless required by applicable law or agreed to in writing, software\n",
              "// distributed under the License is distributed on an \"AS IS\" BASIS,\n",
              "// WITHOUT WARRANTIES OR CONDITIONS OF ANY KIND, either express or implied.\n",
              "// See the License for the specific language governing permissions and\n",
              "// limitations under the License.\n",
              "\n",
              "/**\n",
              " * @fileoverview Helpers for google.colab Python module.\n",
              " */\n",
              "(function(scope) {\n",
              "function span(text, styleAttributes = {}) {\n",
              "  const element = document.createElement('span');\n",
              "  element.textContent = text;\n",
              "  for (const key of Object.keys(styleAttributes)) {\n",
              "    element.style[key] = styleAttributes[key];\n",
              "  }\n",
              "  return element;\n",
              "}\n",
              "\n",
              "// Max number of bytes which will be uploaded at a time.\n",
              "const MAX_PAYLOAD_SIZE = 100 * 1024;\n",
              "\n",
              "function _uploadFiles(inputId, outputId) {\n",
              "  const steps = uploadFilesStep(inputId, outputId);\n",
              "  const outputElement = document.getElementById(outputId);\n",
              "  // Cache steps on the outputElement to make it available for the next call\n",
              "  // to uploadFilesContinue from Python.\n",
              "  outputElement.steps = steps;\n",
              "\n",
              "  return _uploadFilesContinue(outputId);\n",
              "}\n",
              "\n",
              "// This is roughly an async generator (not supported in the browser yet),\n",
              "// where there are multiple asynchronous steps and the Python side is going\n",
              "// to poll for completion of each step.\n",
              "// This uses a Promise to block the python side on completion of each step,\n",
              "// then passes the result of the previous step as the input to the next step.\n",
              "function _uploadFilesContinue(outputId) {\n",
              "  const outputElement = document.getElementById(outputId);\n",
              "  const steps = outputElement.steps;\n",
              "\n",
              "  const next = steps.next(outputElement.lastPromiseValue);\n",
              "  return Promise.resolve(next.value.promise).then((value) => {\n",
              "    // Cache the last promise value to make it available to the next\n",
              "    // step of the generator.\n",
              "    outputElement.lastPromiseValue = value;\n",
              "    return next.value.response;\n",
              "  });\n",
              "}\n",
              "\n",
              "/**\n",
              " * Generator function which is called between each async step of the upload\n",
              " * process.\n",
              " * @param {string} inputId Element ID of the input file picker element.\n",
              " * @param {string} outputId Element ID of the output display.\n",
              " * @return {!Iterable<!Object>} Iterable of next steps.\n",
              " */\n",
              "function* uploadFilesStep(inputId, outputId) {\n",
              "  const inputElement = document.getElementById(inputId);\n",
              "  inputElement.disabled = false;\n",
              "\n",
              "  const outputElement = document.getElementById(outputId);\n",
              "  outputElement.innerHTML = '';\n",
              "\n",
              "  const pickedPromise = new Promise((resolve) => {\n",
              "    inputElement.addEventListener('change', (e) => {\n",
              "      resolve(e.target.files);\n",
              "    });\n",
              "  });\n",
              "\n",
              "  const cancel = document.createElement('button');\n",
              "  inputElement.parentElement.appendChild(cancel);\n",
              "  cancel.textContent = 'Cancel upload';\n",
              "  const cancelPromise = new Promise((resolve) => {\n",
              "    cancel.onclick = () => {\n",
              "      resolve(null);\n",
              "    };\n",
              "  });\n",
              "\n",
              "  // Wait for the user to pick the files.\n",
              "  const files = yield {\n",
              "    promise: Promise.race([pickedPromise, cancelPromise]),\n",
              "    response: {\n",
              "      action: 'starting',\n",
              "    }\n",
              "  };\n",
              "\n",
              "  cancel.remove();\n",
              "\n",
              "  // Disable the input element since further picks are not allowed.\n",
              "  inputElement.disabled = true;\n",
              "\n",
              "  if (!files) {\n",
              "    return {\n",
              "      response: {\n",
              "        action: 'complete',\n",
              "      }\n",
              "    };\n",
              "  }\n",
              "\n",
              "  for (const file of files) {\n",
              "    const li = document.createElement('li');\n",
              "    li.append(span(file.name, {fontWeight: 'bold'}));\n",
              "    li.append(span(\n",
              "        `(${file.type || 'n/a'}) - ${file.size} bytes, ` +\n",
              "        `last modified: ${\n",
              "            file.lastModifiedDate ? file.lastModifiedDate.toLocaleDateString() :\n",
              "                                    'n/a'} - `));\n",
              "    const percent = span('0% done');\n",
              "    li.appendChild(percent);\n",
              "\n",
              "    outputElement.appendChild(li);\n",
              "\n",
              "    const fileDataPromise = new Promise((resolve) => {\n",
              "      const reader = new FileReader();\n",
              "      reader.onload = (e) => {\n",
              "        resolve(e.target.result);\n",
              "      };\n",
              "      reader.readAsArrayBuffer(file);\n",
              "    });\n",
              "    // Wait for the data to be ready.\n",
              "    let fileData = yield {\n",
              "      promise: fileDataPromise,\n",
              "      response: {\n",
              "        action: 'continue',\n",
              "      }\n",
              "    };\n",
              "\n",
              "    // Use a chunked sending to avoid message size limits. See b/62115660.\n",
              "    let position = 0;\n",
              "    do {\n",
              "      const length = Math.min(fileData.byteLength - position, MAX_PAYLOAD_SIZE);\n",
              "      const chunk = new Uint8Array(fileData, position, length);\n",
              "      position += length;\n",
              "\n",
              "      const base64 = btoa(String.fromCharCode.apply(null, chunk));\n",
              "      yield {\n",
              "        response: {\n",
              "          action: 'append',\n",
              "          file: file.name,\n",
              "          data: base64,\n",
              "        },\n",
              "      };\n",
              "\n",
              "      let percentDone = fileData.byteLength === 0 ?\n",
              "          100 :\n",
              "          Math.round((position / fileData.byteLength) * 100);\n",
              "      percent.textContent = `${percentDone}% done`;\n",
              "\n",
              "    } while (position < fileData.byteLength);\n",
              "  }\n",
              "\n",
              "  // All done.\n",
              "  yield {\n",
              "    response: {\n",
              "      action: 'complete',\n",
              "    }\n",
              "  };\n",
              "}\n",
              "\n",
              "scope.google = scope.google || {};\n",
              "scope.google.colab = scope.google.colab || {};\n",
              "scope.google.colab._files = {\n",
              "  _uploadFiles,\n",
              "  _uploadFilesContinue,\n",
              "};\n",
              "})(self);\n",
              "</script> "
            ]
          },
          "metadata": {}
        },
        {
          "output_type": "stream",
          "name": "stdout",
          "text": [
            "Saving 1e1VCnCEApnFh9Oo.png to 1e1VCnCEApnFh9Oo (9).png\n",
            "Saving 1Tt9U9SzrOm98Xtw.png to 1Tt9U9SzrOm98Xtw (6).png\n",
            "Saving 3dI7E5pwR07mvKvF.png to 3dI7E5pwR07mvKvF (8).png\n",
            "1/1 [==============================] - 0s 17ms/step\n",
            "1e1VCnCEApnFh9Oo.png\n",
            "rock\n",
            "1/1 [==============================] - 0s 13ms/step\n",
            "1Tt9U9SzrOm98Xtw.png\n",
            "paper\n",
            "1/1 [==============================] - 0s 13ms/step\n",
            "3dI7E5pwR07mvKvF.png\n",
            "scissors\n"
          ]
        },
        {
          "output_type": "display_data",
          "data": {
            "text/plain": [
              "<Figure size 432x288 with 1 Axes>"
            ],
            "image/png": "[encoded data removed]"
          },
          "metadata": {
            "needs_background": "light"
          }
        }
      ]
    }
  ]
}