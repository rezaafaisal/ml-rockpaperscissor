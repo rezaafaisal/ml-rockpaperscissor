{
  "nbformat": 4,
  "nbformat_minor": 0,
  "metadata": {
    "colab": {
      "provenance": [],
      "authorship_tag": "ABX9TyMSDRO28UohndQnmZ5ObTXm",
      "include_colab_link": true
    },
    "kernelspec": {
      "name": "python3",
      "display_name": "Python 3"
    },
    "language_info": {
      "name": "python"
    },
    "gpuClass": "standard",
    "accelerator": "GPU"
  },
  "cells": [
    {
      "cell_type": "markdown",
      "metadata": {
        "id": "view-in-github",
        "colab_type": "text"
      },
      "source": [
        "<a href=\"https://colab.research.google.com/github/rezaafaisal/ml-rockpaperscissor/blob/master/Submission_ML.ipynb\" target=\"_parent\"><img src=\"https://colab.research.google.com/assets/colab-badge.svg\" alt=\"Open In Colab\"/></a>"
      ]
    },
    {
      "cell_type": "code",
      "execution_count": null,
      "metadata": {
        "id": "civKrIFyql2E"
      },
      "outputs": [],
      "source": [
        "import shutil, zipfile, os\n",
        "import tensorflow as tf\n",
        "import matplotlib.pyplot as plt\n",
        "from sklearn.model_selection import train_test_split\n",
        "from tensorflow.keras.models import Sequential\n",
        "from tensorflow.keras.layers import Dense, Conv2D, Flatten, MaxPooling2D\n",
        "from tensorflow.keras.preprocessing.image import ImageDataGenerator\n"
      ]
    },
    {
      "cell_type": "code",
      "source": [
        "!wget --no-check-certificate \\\n",
        "  https://github.com/dicodingacademy/assets/releases/download/release/rockpaperscissors.zip \\\n",
        "  -O /tmp/rockpaperscissors.zip"
      ],
      "metadata": {
        "id": "4Pb5Hl0bpHyy"
      },
      "execution_count": null,
      "outputs": []
    },
    {
      "cell_type": "code",
      "source": [
        "# extract dataset\n",
        "local_zip = '/tmp/rockpaperscissors.zip'\n",
        "zip_ref = zipfile.ZipFile(local_zip, 'r')\n",
        "zip_ref.extractall('/tmp')\n",
        "zip_ref.close()"
      ],
      "metadata": {
        "id": "hG55RmCTpgWa"
      },
      "execution_count": null,
      "outputs": []
    },
    {
      "cell_type": "code",
      "source": [
        "# r = Roshambo =  Rock, Paper, Scissors\n",
        "labels = ['paper', 'rock', 'scissors']\n",
        "\n",
        "\n",
        "# init dictionary variable\n",
        "r_dir = {}\n",
        "r_file = {}\n",
        "\n",
        "r_train = {}\n",
        "r_val = {}\n",
        "\n",
        "r_train_dir = {}\n",
        "r_val_dir = {}\n",
        "\n",
        "base_dir = '/tmp/rockpaperscissors'\n",
        "\n",
        "for label in labels:\n",
        "  r_dir[label] = os.path.join(base_dir, label) #dataset directory\n",
        "  r_file[label] = os.listdir(r_dir[label]) #dataset file\n",
        "  r_train[label], r_val[label] = train_test_split(r_file[label], test_size=0.4) #split train and val 60/40"
      ],
      "metadata": {
        "id": "cqNSreQOZVdJ"
      },
      "execution_count": null,
      "outputs": []
    },
    {
      "cell_type": "code",
      "source": [
        "# hasil bagi train dan test\n",
        "train_total = 0\n",
        "val_total = 0\n",
        "\n",
        "for label in labels:\n",
        "  train_total += len(r_train[label])\n",
        "  val_total += len(r_val[label])\n",
        "\n",
        "  print(\"Train \"+label+\" : \", len(r_train[label]))\n",
        "  print(\"Val \"+label+\" : \", len(r_val[label]))\n",
        "\n",
        "print(\"\\nTrain Total : \", train_total)\n",
        "print(\"Val Total : \", val_total)"
      ],
      "metadata": {
        "colab": {
          "base_uri": "https://localhost:8080/"
        },
        "id": "kX1uioQ4hM_n",
        "outputId": "b5afd0f5-b2c8-4440-9a33-9cd13b8174c3"
      },
      "execution_count": null,
      "outputs": [
        {
          "output_type": "stream",
          "name": "stdout",
          "text": [
            "Train paper :  427\n",
            "Val paper :  285\n",
            "Train rock :  435\n",
            "Val rock :  291\n",
            "Train scissors :  450\n",
            "Val scissors :  300\n",
            "\n",
            "Train Total :  1312\n",
            "Val Total :  876\n"
          ]
        }
      ]
    },
    {
      "cell_type": "code",
      "source": [
        "# buat folder train dan validation\n",
        "os.mkdir(os.path.join(base_dir, 'train'))\n",
        "os.mkdir(os.path.join(base_dir, 'val'))"
      ],
      "metadata": {
        "id": "ND6eBwjwUjiR"
      },
      "execution_count": null,
      "outputs": []
    },
    {
      "cell_type": "code",
      "source": [
        "# train dan validation direktori\n",
        "train_dir = os.path.join(base_dir, 'train')\n",
        "val_dir = os.path.join(base_dir, 'val')"
      ],
      "metadata": {
        "id": "0jaZPz1sVaBr"
      },
      "execution_count": null,
      "outputs": []
    },
    {
      "cell_type": "code",
      "source": [
        "# buat direktori label dalam training dan validation\n",
        "for label in labels:\n",
        "  r_train_dir[label] = os.path.join(train_dir, label)\n",
        "  r_val_dir[label] = os.path.join(val_dir, label)\n",
        "\n",
        "  if not os.path.exists(r_train_dir[label]):\n",
        "    os.mkdir(r_train_dir[label])\n",
        "  if not os.path.exists(r_val_dir[label]):\n",
        "    os.mkdir(r_val_dir[label])"
      ],
      "metadata": {
        "id": "zosFhXPuVwcb"
      },
      "execution_count": null,
      "outputs": []
    },
    {
      "cell_type": "code",
      "source": [
        "print(r_train_dir)\n",
        "print(r_val_dir)"
      ],
      "metadata": {
        "colab": {
          "base_uri": "https://localhost:8080/"
        },
        "id": "rTOqfhbW4vJJ",
        "outputId": "49352d65-27b6-46ef-94c2-a562a2f3f576"
      },
      "execution_count": null,
      "outputs": [
        {
          "output_type": "stream",
          "name": "stdout",
          "text": [
            "{'paper': '/tmp/rockpaperscissors/train/paper', 'rock': '/tmp/rockpaperscissors/train/rock', 'scissors': '/tmp/rockpaperscissors/train/scissors'}\n",
            "{'paper': '/tmp/rockpaperscissors/val/paper', 'rock': '/tmp/rockpaperscissors/val/rock', 'scissors': '/tmp/rockpaperscissors/val/scissors'}\n"
          ]
        }
      ]
    },
    {
      "cell_type": "code",
      "source": [
        "# copy file dataset ke train dan val\n",
        "for label in labels:\n",
        "  for filename in r_train[label]:\n",
        "    if not os.path.exists(os.path.join(r_train_dir[label], filename)):\n",
        "      shutil.copy(os.path.join(r_dir[label], filename), os.path.join(r_train_dir[label], filename))\n",
        "  \n",
        "  for filename in r_val[label]:\n",
        "    if not os.path.exists(os.path.join(r_val_dir[label], filename)):\n",
        "      shutil.copy(os.path.join(r_dir[label], filename), os.path.join(r_val_dir[label], filename))"
      ],
      "metadata": {
        "id": "zwFWjSAKYGA4"
      },
      "execution_count": null,
      "outputs": []
    },
    {
      "cell_type": "code",
      "source": [
        "print('Train Data', sum([len(files) for r, d, files in os.walk(train_dir)]))\n",
        "print('Validation Data', sum([len(files) for r, d, files in os.walk(val_dir)]))"
      ],
      "metadata": {
        "colab": {
          "base_uri": "https://localhost:8080/"
        },
        "id": "Vjl18suSuZKj",
        "outputId": "c7d6d7df-715c-4635-eaf6-dc57e660a52d"
      },
      "execution_count": null,
      "outputs": [
        {
          "output_type": "stream",
          "name": "stdout",
          "text": [
            "Train Data 1312\n",
            "Validation Data 876\n"
          ]
        }
      ]
    },
    {
      "cell_type": "code",
      "source": [
        "# data image generator\n",
        "train_datagen = ImageDataGenerator(\n",
        "    rescale = 1./225,\n",
        "    rotation_range = 20,\n",
        "    horizontal_flip = True,\n",
        "    width_shift_range=.15,\n",
        "    height_shift_range=.15 ,\n",
        "    zoom_range=0.5 ,\n",
        "    fill_mode = 'nearest')\n",
        "\n",
        "val_datagen = ImageDataGenerator(rescale = 1./225)"
      ],
      "metadata": {
        "id": "cwRXTiwXrHbh"
      },
      "execution_count": null,
      "outputs": []
    },
    {
      "cell_type": "code",
      "source": [
        "train_generator = train_datagen.flow_from_directory(\n",
        "    train_dir,\n",
        "    target_size=(150,150),\n",
        "    batch_size=30,\n",
        "    shuffle=True,\n",
        "    class_mode='categorical')\n",
        "\n",
        "val_generator = val_datagen.flow_from_directory(\n",
        "    val_dir,\n",
        "    target_size=(150,150),\n",
        "    batch_size=32,\n",
        "    shuffle=True,\n",
        "    class_mode='categorical')"
      ],
      "metadata": {
        "colab": {
          "base_uri": "https://localhost:8080/"
        },
        "id": "CntHcwAIPVBq",
        "outputId": "88d2f7f8-a1fa-4300-cbd4-1aa90e21ca03"
      },
      "execution_count": null,
      "outputs": [
        {
          "output_type": "stream",
          "name": "stdout",
          "text": [
            "Found 1312 images belonging to 3 classes.\n",
            "Found 876 images belonging to 3 classes.\n"
          ]
        }
      ]
    },
    {
      "cell_type": "code",
      "source": [
        "model = Sequential([\n",
        "  Conv2D(32, 3, activation = 'relu', input_shape= (150,150,3)),\n",
        "  MaxPooling2D(2,2),\n",
        "  Conv2D(64, 3 , activation= 'relu'),\n",
        "  MaxPooling2D(2,2),\n",
        "  Conv2D(128, 3 , activation= 'relu'),\n",
        "  MaxPooling2D(2,2),\n",
        "  Conv2D(256, 3 , activation= 'relu'),\n",
        "  MaxPooling2D(2,2),\n",
        "  Flatten(),\n",
        "  Dense(512, activation= 'relu'),\n",
        "  Dense(3, activation= 'softmax')\n",
        "])"
      ],
      "metadata": {
        "id": "6KoCkWslzFif"
      },
      "execution_count": null,
      "outputs": []
    },
    {
      "cell_type": "code",
      "source": [
        "batch_size = 32\n",
        "epochs = 10\n",
        "num_classes = 3"
      ],
      "metadata": {
        "id": "9fky6X67QZuz"
      },
      "execution_count": null,
      "outputs": []
    },
    {
      "cell_type": "code",
      "source": [
        "model.summary()"
      ],
      "metadata": {
        "id": "h0Q3QUk9YqYl"
      },
      "execution_count": null,
      "outputs": []
    },
    {
      "cell_type": "code",
      "source": [
        "model.compile(loss='categorical_crossentropy',\n",
        "              optimizer=tf.optimizers.Adam(),\n",
        "              metrics=['accuracy'])"
      ],
      "metadata": {
        "id": "4-m_mMWhSySN"
      },
      "execution_count": null,
      "outputs": []
    },
    {
      "cell_type": "code",
      "source": [
        "model.fit(\n",
        "    train_generator,\n",
        "    steps_per_epoch = 25,\n",
        "    epochs = 20,\n",
        "    validation_data = val_generator,\n",
        "    validation_steps = 5,\n",
        "    verbose =2\n",
        ")"
      ],
      "metadata": {
        "id": "Wt4vu3HhS-me"
      },
      "execution_count": null,
      "outputs": []
    }
  ]
}